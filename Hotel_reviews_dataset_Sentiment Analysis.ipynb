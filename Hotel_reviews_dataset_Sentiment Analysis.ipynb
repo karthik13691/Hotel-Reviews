{
 "cells": [
  {
   "cell_type": "code",
   "execution_count": 1,
   "metadata": {},
   "outputs": [
    {
     "name": "stderr",
     "output_type": "stream",
     "text": [
      "C:\\Users\\CampusUser\\Anaconda3\\lib\\site-packages\\sklearn\\ensemble\\weight_boosting.py:29: DeprecationWarning: numpy.core.umath_tests is an internal NumPy module and should not be imported. It will be removed in a future NumPy release.\n",
      "  from numpy.core.umath_tests import inner1d\n"
     ]
    }
   ],
   "source": [
    "import numpy as np\n",
    "import pandas as pd\n",
    "import matplotlib.pyplot as plt\n",
    "import seaborn as sns\n",
    "import re\n",
    "import nltk\n",
    "import string\n",
    "from nltk.corpus import stopwords\n",
    "from nltk.classify import SklearnClassifier\n",
    "from nltk.tokenize import sent_tokenize, word_tokenize\n",
    "import time\n",
    "import nltk.classify.util\n",
    "from nltk.classify import NaiveBayesClassifier\n",
    "from sklearn.model_selection import train_test_split\n",
    "from sklearn.ensemble import RandomForestClassifier "
   ]
  },
  {
   "cell_type": "code",
   "execution_count": 2,
   "metadata": {},
   "outputs": [],
   "source": [
    "df=pd.read_csv('Hotel_Reviews.csv')"
   ]
  },
  {
   "cell_type": "code",
   "execution_count": 3,
   "metadata": {},
   "outputs": [],
   "source": [
    "# Correct day of the review into integer\n",
    "df['days_since_review']=pd.to_numeric(df['days_since_review'].str.replace(r'[a-z]+', \"\"))"
   ]
  },
  {
   "cell_type": "code",
   "execution_count": 4,
   "metadata": {},
   "outputs": [],
   "source": [
    "# Lets isolate the reviews that have some information into negative/positive\n",
    "# To keep it simple, lets start getting the badly scored and highly scored reviews to feed later on to the classifier.\n",
    "# DataFrames with Negative reviews and positive reviews given\n",
    "neg_rev=df[df.Negative_Review!='No Negative'].reset_index().drop('index',1)\n",
    "pos_rev=df[df.Positive_Review!='No Positive'].reset_index().drop('index',1)\n",
    "neg_rev = neg_rev[neg_rev['Reviewer_Score']<5].reset_index().drop('index',1)\n",
    "pos_rev = pos_rev[pos_rev['Reviewer_Score']>8].reset_index().drop('index',1)"
   ]
  },
  {
   "cell_type": "code",
   "execution_count": 5,
   "metadata": {},
   "outputs": [],
   "source": [
    "# To run this whole 515k database run faster, TokTok is used\n",
    "from nltk.tokenize import ToktokTokenizer\n",
    "toktok = ToktokTokenizer()\n"
   ]
  },
  {
   "cell_type": "code",
   "execution_count": 6,
   "metadata": {},
   "outputs": [],
   "source": [
    "# Stopwords, numbers and punctuation to remove\n",
    "remove_punct_and_digits = dict([(ord(punct), ' ') for punct in string.punctuation + string.digits])\n",
    "stopWords = set(stopwords.words('english'))\n",
    "def word_cleaner(data):\n",
    "    cleaned_word = data.lower().translate(remove_punct_and_digits)\n",
    "    words = word_tokenize(cleaned_word)\n",
    "    words = [toktok.tokenize(sent) for sent in sent_tokenize(cleaned_word)]\n",
    "    wordsFiltered = []\n",
    "    if not words:\n",
    "        pass\n",
    "    else:\n",
    "        for w in words[0]:\n",
    "            if w not in stopWords:\n",
    "                wordsFiltered.append(w)\n",
    "                end=time.time()\n",
    "    return wordsFiltered\n"
   ]
  },
  {
   "cell_type": "code",
   "execution_count": 7,
   "metadata": {},
   "outputs": [],
   "source": [
    "# We take a small sample within our database to speed up Learning\n",
    "neg_red=neg_rev[:50000].copy()\n",
    "pos_red=pos_rev[:50000].copy()"
   ]
  },
  {
   "cell_type": "code",
   "execution_count": 8,
   "metadata": {},
   "outputs": [],
   "source": [
    "# Now, we create a set related to positive and negative review\n",
    "def word_feats(words):\n",
    "    return dict([(word, True) for word in words])\n",
    "neg_set=[(word_feats(word_feats(word_cleaner(neg_red.loc[i,'Negative_Review']))), 0) for i in range(len(neg_red))]\n",
    "pos_set=[(word_feats(word_feats(word_cleaner(pos_red.loc[i,'Positive_Review']))), 1) for i in range(len(pos_red))]\n"
   ]
  },
  {
   "cell_type": "code",
   "execution_count": 9,
   "metadata": {},
   "outputs": [
    {
     "name": "stdout",
     "output_type": "stream",
     "text": [
      "53724 17908\n",
      "accuracy: 0.8930645521554612\n"
     ]
    }
   ],
   "source": [
    "# We train the model and use CV to test accuracy\n",
    "\n",
    "negcutoff = int(len(neg_set)*3/4)\n",
    "poscutoff = int(len(pos_set)*3/4)\n",
    " \n",
    "trainfeats = neg_set[:negcutoff] + pos_set[:poscutoff]\n",
    "testfeats = neg_set[negcutoff:] + pos_set[poscutoff:]\n",
    "print(len(trainfeats), len(testfeats))\n",
    " \n",
    "classifier = NaiveBayesClassifier.train(trainfeats)\n",
    "print( 'accuracy:', nltk.classify.util.accuracy(classifier, testfeats))"
   ]
  },
  {
   "cell_type": "code",
   "execution_count": 10,
   "metadata": {},
   "outputs": [],
   "source": [
    "# Now to get the overview of the most hated/loved words so...\n",
    "# We build the dataframe of words with respective sentiment and score\n",
    "\n",
    "cpdist = classifier._feature_probdist\n",
    "word=[]\n",
    "score=[]\n",
    "sentiment=[]\n",
    "for (fname, fval) in classifier.most_informative_features(100):\n",
    "            def labelprob(l):\n",
    "                return cpdist[l, fname].prob(fval)\n",
    "\n",
    "            labels = sorted([l for l in classifier._labels\n",
    "                             if fval in cpdist[l, fname].samples()],\n",
    "                            key=labelprob)\n",
    "            if len(labels) == 1:\n",
    "                continue\n",
    "            l0 = labels[0]\n",
    "            l1 = labels[-1]\n",
    "            if cpdist[l0, fname].prob(fval) == 0:\n",
    "                ratio = 'INF'\n",
    "            else:\n",
    "                ratio = '%8.1f' % (cpdist[l1, fname].prob(fval) /\n",
    "                                   cpdist[l0, fname].prob(fval))\n",
    "            sentiment.append(int(l1))\n",
    "            word.append(fname)\n",
    "            score.append(float(ratio))"
   ]
  },
  {
   "cell_type": "code",
   "execution_count": 11,
   "metadata": {},
   "outputs": [
    {
     "data": {
      "text/html": [
       "<div>\n",
       "<style scoped>\n",
       "    .dataframe tbody tr th:only-of-type {\n",
       "        vertical-align: middle;\n",
       "    }\n",
       "\n",
       "    .dataframe tbody tr th {\n",
       "        vertical-align: top;\n",
       "    }\n",
       "\n",
       "    .dataframe thead th {\n",
       "        text-align: right;\n",
       "    }\n",
       "</style>\n",
       "<table border=\"1\" class=\"dataframe\">\n",
       "  <thead>\n",
       "    <tr style=\"text-align: right;\">\n",
       "      <th></th>\n",
       "      <th>word</th>\n",
       "      <th>sentiment</th>\n",
       "      <th>score</th>\n",
       "    </tr>\n",
       "  </thead>\n",
       "  <tbody>\n",
       "    <tr>\n",
       "      <th>7</th>\n",
       "      <td>superb</td>\n",
       "      <td>1</td>\n",
       "      <td>198.0</td>\n",
       "    </tr>\n",
       "    <tr>\n",
       "      <th>20</th>\n",
       "      <td>delicious</td>\n",
       "      <td>1</td>\n",
       "      <td>127.1</td>\n",
       "    </tr>\n",
       "    <tr>\n",
       "      <th>47</th>\n",
       "      <td>excellent</td>\n",
       "      <td>1</td>\n",
       "      <td>77.8</td>\n",
       "    </tr>\n",
       "    <tr>\n",
       "      <th>54</th>\n",
       "      <td>fab</td>\n",
       "      <td>1</td>\n",
       "      <td>72.0</td>\n",
       "    </tr>\n",
       "    <tr>\n",
       "      <th>56</th>\n",
       "      <td>beautifully</td>\n",
       "      <td>1</td>\n",
       "      <td>70.8</td>\n",
       "    </tr>\n",
       "  </tbody>\n",
       "</table>\n",
       "</div>"
      ],
      "text/plain": [
       "           word  sentiment  score\n",
       "7        superb          1  198.0\n",
       "20    delicious          1  127.1\n",
       "47    excellent          1   77.8\n",
       "54          fab          1   72.0\n",
       "56  beautifully          1   70.8"
      ]
     },
     "metadata": {},
     "output_type": "display_data"
    },
    {
     "data": {
      "text/html": [
       "<div>\n",
       "<style scoped>\n",
       "    .dataframe tbody tr th:only-of-type {\n",
       "        vertical-align: middle;\n",
       "    }\n",
       "\n",
       "    .dataframe tbody tr th {\n",
       "        vertical-align: top;\n",
       "    }\n",
       "\n",
       "    .dataframe thead th {\n",
       "        text-align: right;\n",
       "    }\n",
       "</style>\n",
       "<table border=\"1\" class=\"dataframe\">\n",
       "  <thead>\n",
       "    <tr style=\"text-align: right;\">\n",
       "      <th></th>\n",
       "      <th>word</th>\n",
       "      <th>sentiment</th>\n",
       "      <th>score</th>\n",
       "    </tr>\n",
       "  </thead>\n",
       "  <tbody>\n",
       "    <tr>\n",
       "      <th>0</th>\n",
       "      <td>worst</td>\n",
       "      <td>0</td>\n",
       "      <td>929.9</td>\n",
       "    </tr>\n",
       "    <tr>\n",
       "      <th>1</th>\n",
       "      <td>rude</td>\n",
       "      <td>0</td>\n",
       "      <td>691.1</td>\n",
       "    </tr>\n",
       "    <tr>\n",
       "      <th>2</th>\n",
       "      <td>dirty</td>\n",
       "      <td>0</td>\n",
       "      <td>648.6</td>\n",
       "    </tr>\n",
       "    <tr>\n",
       "      <th>3</th>\n",
       "      <td>disgusting</td>\n",
       "      <td>0</td>\n",
       "      <td>361.3</td>\n",
       "    </tr>\n",
       "    <tr>\n",
       "      <th>4</th>\n",
       "      <td>terrible</td>\n",
       "      <td>0</td>\n",
       "      <td>302.3</td>\n",
       "    </tr>\n",
       "  </tbody>\n",
       "</table>\n",
       "</div>"
      ],
      "text/plain": [
       "         word  sentiment  score\n",
       "0       worst          0  929.9\n",
       "1        rude          0  691.1\n",
       "2       dirty          0  648.6\n",
       "3  disgusting          0  361.3\n",
       "4    terrible          0  302.3"
      ]
     },
     "metadata": {},
     "output_type": "display_data"
    }
   ],
   "source": [
    "# Dividing the scores into negative and positive\n",
    "word_scores=pd.DataFrame({'word':word,'sentiment':sentiment,'score':score})\n",
    "neg_word_scores=word_scores[word_scores.sentiment==0]\n",
    "pos_word_scores=word_scores[word_scores.sentiment==1]\n",
    "display(word_scores[word_scores['sentiment']==1].head())\n",
    "display(word_scores[word_scores['sentiment']==0].head())\n",
    "neg_given=df[df.Negative_Review!='No Negative'].reset_index().drop('index',1)\n",
    "pos_given=df[df.Positive_Review!='No Positive'].reset_index().drop('index',1)"
   ]
  },
  {
   "cell_type": "code",
   "execution_count": 12,
   "metadata": {},
   "outputs": [],
   "source": [
    "# We create two new columns, one that will give a positive and one a negative score\n",
    "# Sums positive and negative scores for a given review\n",
    "def pos_sentiment_sum(review):\n",
    "    pos=0\n",
    "    asd=word_cleaner(review)\n",
    "    set_w=set(pos_word_scores.word)-set(['no','negative','positive'])\n",
    "    \n",
    "    for word in asd:\n",
    "        if word in set_w:\n",
    "            pos+=pos_word_scores[pos_word_scores['word']==word].score.iloc[0]\n",
    "    \n",
    "    return pos\n",
    "\n",
    "def neg_sentiment_sum(review):\n",
    "    neg=0\n",
    "    asd=word_cleaner(review)\n",
    "    set_w=set(neg_word_scores.word)-set(['no','negative','positive'])\n",
    "    \n",
    "    for word in asd:\n",
    "        if word in set_w:\n",
    "            neg+=neg_word_scores[neg_word_scores['word']==word].score.iloc[0]\n",
    "    \n",
    "    return neg"
   ]
  },
  {
   "cell_type": "code",
   "execution_count": 13,
   "metadata": {},
   "outputs": [],
   "source": [
    "# Produce the pos and neg colums in database\n",
    "pos_col=[]\n",
    "for i in range(len(df)):\n",
    "    if df.Positive_Review[i]=='No Positive':\n",
    "        pos_col.append(int(0))\n",
    "    else:\n",
    "        pos_col.append(pos_sentiment_sum(df.Positive_Review[i]))\n",
    "df['pos_score']=pos_col\n",
    "\n",
    "neg_col=[]\n",
    "for i in range(len(df)):\n",
    "    if df.Negative_Review[i]=='No Negative':\n",
    "        neg_col.append(int(0))\n",
    "    else:\n",
    "        neg_col.append(neg_sentiment_sum(df.Negative_Review[i]))\n",
    "df['neg_score']=neg_col"
   ]
  },
  {
   "cell_type": "code",
   "execution_count": 14,
   "metadata": {},
   "outputs": [
    {
     "name": "stdout",
     "output_type": "stream",
     "text": [
      "(86851, 19)\n",
      "(92830, 19)\n",
      "(88104, 19)\n",
      "(246390, 19)\n"
     ]
    }
   ],
   "source": [
    "# Reviews grouped by rate band\n",
    "score_9=df[df.Reviewer_Score>9].copy()\n",
    "score_4=df[df.Reviewer_Score<4].copy()\n",
    "score_6=df[df.Reviewer_Score<7].copy()\n",
    "score_7=df[(df.Reviewer_Score>7)&(df.Reviewer_Score<8)].copy()\n",
    "score_8=df[(df.Reviewer_Score>8)&(df.Reviewer_Score<9)].copy()\n",
    "print(score_6.shape)\n",
    "print(score_7.shape)\n",
    "print(score_8.shape)\n",
    "print(score_9.shape)"
   ]
  },
  {
   "cell_type": "code",
   "execution_count": 15,
   "metadata": {},
   "outputs": [
    {
     "data": {
      "image/png": "[encoded data removed]",
      "text/plain": [
       "<Figure size 720x504 with 1 Axes>"
      ]
     },
     "metadata": {
      "needs_background": "light"
     },
     "output_type": "display_data"
    }
   ],
   "source": [
    "# Some plots of Ratings against Hotels and weekly ratings\n",
    "from matplotlib import rcParams\n",
    "\n",
    "plt.figure(figsize=(10,7))\n",
    "plt.hist(df['Reviewer_Score'],bins=20)\n",
    "plt.ylabel('Number_Reviewers',fontsize=16)\n",
    "plt.xlabel('Rating',fontsize=12)\n",
    "plt.title('Ratings accross Users',fontsize=16)\n",
    "plt.axvline(df['Reviewer_Score'].mean(), color='k', linestyle='dashed', linewidth=1)\n",
    "plt.savefig('Ratings_user.png')"
   ]
  },
  {
   "cell_type": "code",
   "execution_count": 16,
   "metadata": {},
   "outputs": [
    {
     "data": {
      "image/png": "[encoded data removed]",
      "text/plain": [
       "<Figure size 504x504 with 1 Axes>"
      ]
     },
     "metadata": {
      "needs_background": "light"
     },
     "output_type": "display_data"
    }
   ],
   "source": [
    "plt.figure(figsize=(7,7))\n",
    "plt.hist(df['Average_Score'],bins=20)\n",
    "plt.ylabel('Number Hotels',fontsize=16)\n",
    "plt.xlabel('Rating',fontsize=16)\n",
    "plt.title('Ratings accross Hotels',fontsize=16)\n",
    "plt.axvline(df['Average_Score'].mean(), color='k', linestyle='dashed', linewidth=1)\n",
    "plt.savefig('Ratings_hotel.png')\n"
   ]
  },
  {
   "cell_type": "code",
   "execution_count": 17,
   "metadata": {},
   "outputs": [
    {
     "data": {
      "image/png": "[encoded data removed]",
      "text/plain": [
       "<Figure size 504x288 with 1 Axes>"
      ]
     },
     "metadata": {
      "needs_background": "light"
     },
     "output_type": "display_data"
    }
   ],
   "source": [
    "plt.figure(figsize=(7,4))\n",
    "week_bins=int(np.floor((max(df['days_since_review'])-min(df['days_since_review']))/7))\n",
    "vals = plt.hist(df['days_since_review'],bins=week_bins);\n",
    "plt.ylabel('Number ratings',fontsize=16)\n",
    "plt.xlabel('Days passed',fontsize=16)\n",
    "plt.title('Ratings per week',fontsize=16)\n",
    "plt.axhline(vals[0].mean(), color='k', linestyle='dashed', linewidth=1)\n",
    "plt.savefig('Ratings_week.png')"
   ]
  },
  {
   "cell_type": "code",
   "execution_count": 18,
   "metadata": {},
   "outputs": [
    {
     "data": {
      "image/png": "[encoded data removed]",
      "text/plain": [
       "<Figure size 504x288 with 1 Axes>"
      ]
     },
     "metadata": {
      "needs_background": "light"
     },
     "output_type": "display_data"
    }
   ],
   "source": [
    "plt.figure(figsize=(7,4))\n",
    "plt.plot(vals[0]);\n",
    "plt.ylabel('Number ratings',fontsize=16)\n",
    "plt.xlabel('Weeks passed',fontsize=16)\n",
    "plt.title('Ratings per week',fontsize=16)\n",
    "plt.axhline(vals[0].mean(), color='k', linestyle='dashed', linewidth=1)\n",
    "plt.savefig('Ratings_week_plot.png')"
   ]
  },
  {
   "cell_type": "code",
   "execution_count": null,
   "metadata": {},
   "outputs": [],
   "source": []
  }
 ],
 "metadata": {
  "kernelspec": {
   "display_name": "Python 3",
   "language": "python",
   "name": "python3"
  },
  "language_info": {
   "codemirror_mode": {
    "name": "ipython",
    "version": 3
   },
   "file_extension": ".py",
   "mimetype": "text/x-python",
   "name": "python",
   "nbconvert_exporter": "python",
   "pygments_lexer": "ipython3",
   "version": "3.7.0"
  }
 },
 "nbformat": 4,
 "nbformat_minor": 2
}
